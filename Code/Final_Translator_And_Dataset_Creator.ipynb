{
 "cells": [
  {
   "cell_type": "code",
   "execution_count": 1,
   "metadata": {
    "id": "Yyj8l-iBxJQe"
   },
   "outputs": [],
   "source": [
    "from googletrans import Translator\n",
    "import pandas as pd\n",
    "import numpy as np\n",
    "from pandas import *\n",
    "from IPython.display import clear_output"
   ]
  },
  {
   "cell_type": "code",
   "execution_count": 2,
   "metadata": {
    "id": "_SXvvTWbxJQl"
   },
   "outputs": [],
   "source": [
    "#ReadFile\n",
    "#df2 = pd.read_csv('/content/drive/My Drive/Projects/FoodDataset/makedata11.csv',names=[\"RecipeName\",\"Ingredients\", \"PrepTimeInMins\", \"CookTimeInMins\",\"TotalTimeInMins\",\"Servings\",\"Cuisine\",\"Course\",\"Diet\",\"Instructions\"],index_col=False)\n",
    "df2 = pd.read_csv('makedata11.csv',names=[\"RecipeName\",\"Ingredients\", \"Course\",\"Instructions\"],index_col=False)"
   ]
  },
  {
   "cell_type": "code",
   "execution_count": 3,
   "metadata": {
    "id": "Dge49FtOxJQo"
   },
   "outputs": [],
   "source": [
    "translator = Translator()"
   ]
  },
  {
   "cell_type": "code",
   "execution_count": 4,
   "metadata": {
    "id": "9sy-8AkqxJQr"
   },
   "outputs": [],
   "source": [
    "df = df2.copy()"
   ]
  },
  {
   "cell_type": "code",
   "execution_count": 5,
   "metadata": {
    "id": "fthVVN0uxJQu"
   },
   "outputs": [],
   "source": [
    "#Translation Function\n",
    "def translate_df_column(df,column_name,count):\n",
    "  total = len(df)\n",
    "  \n",
    "  translated_list = []\n",
    "  for item in df[column_name]:\n",
    "    count = count+1\n",
    "    # print(f'{count} of {total}')\n",
    "    clear_output(wait=True)\n",
    "    try:\n",
    "      item = translator.translate(item)\n",
    "      translated_item = item.text\n",
    "      translated_list.append(translated_item)\n",
    "    except Exception as e:\n",
    "      translated_list.append('NA')\n",
    "      print(e)\n",
    "    print(\"Current Progress:\",np.round((count/total)*100,3),\"%\")\n",
    "  return translated_list"
   ]
  },
  {
   "cell_type": "code",
   "execution_count": 6,
   "metadata": {
    "id": "PujkNG1xxJQx"
   },
   "outputs": [
    {
     "data": {
      "text/plain": [
       "RecipeName      0\n",
       "Ingredients     0\n",
       "Course          0\n",
       "Instructions    0\n",
       "dtype: int64"
      ]
     },
     "execution_count": 6,
     "metadata": {},
     "output_type": "execute_result"
    }
   ],
   "source": [
    "count_nan = len(df) - df.count()\n",
    "count_nan"
   ]
  },
  {
   "cell_type": "code",
   "execution_count": 7,
   "metadata": {
    "id": "VOJc7bc-xJQ2"
   },
   "outputs": [
    {
     "name": "stdout",
     "output_type": "stream",
     "text": [
      "'NoneType' object has no attribute 'group'\n",
      "Current Progress: 100.0 %\n"
     ]
    }
   ],
   "source": [
    "translated_recipename = translate_df_column(df,\"RecipeName\",0)\n",
    "df[\"TranslatedRecipeName\"] = translated_recipename"
   ]
  },
  {
   "cell_type": "code",
   "execution_count": 8,
   "metadata": {
    "id": "x66omeE6xJQ5"
   },
   "outputs": [
    {
     "name": "stdout",
     "output_type": "stream",
     "text": [
      "'NoneType' object has no attribute 'group'\n",
      "Current Progress: 100.0 %\n"
     ]
    }
   ],
   "source": [
    "translated_ingredients = translate_df_column(df,\"Ingredients\",count=0)\n",
    "df[\"TranslatedIngredients\"] = translated_ingredients"
   ]
  },
  {
   "cell_type": "code",
   "execution_count": 9,
   "metadata": {
    "id": "ccOLzBELxJQ8"
   },
   "outputs": [
    {
     "name": "stdout",
     "output_type": "stream",
     "text": [
      "'NoneType' object has no attribute 'group'\n",
      "Current Progress: 100.0 %\n"
     ]
    }
   ],
   "source": [
    "translated_instructions = translate_df_column(df,\"Instructions\",count=0)\n",
    "df[\"TranslatedInstructions\"] = translated_instructions"
   ]
  },
  {
   "cell_type": "code",
   "execution_count": 10,
   "metadata": {
    "id": "Xsw6o7wBxJQ-"
   },
   "outputs": [
    {
     "data": {
      "text/plain": [
       "['RecipeName',\n",
       " 'Ingredients',\n",
       " 'Course',\n",
       " 'Instructions',\n",
       " 'TranslatedRecipeName',\n",
       " 'TranslatedIngredients',\n",
       " 'TranslatedInstructions']"
      ]
     },
     "execution_count": 10,
     "metadata": {},
     "output_type": "execute_result"
    }
   ],
   "source": [
    "cols = df.columns.tolist()\n",
    "cols"
   ]
  },
  {
   "cell_type": "code",
   "execution_count": 11,
   "metadata": {
    "id": "99z5gspqxJRB"
   },
   "outputs": [],
   "source": [
    "neworder = ['RecipeName',\n",
    "            'TranslatedRecipeName',\n",
    " 'Ingredients',\n",
    "  'TranslatedIngredients',\n",
    " #'PrepTimeInMins',\n",
    " #'CookTimeInMins',\n",
    " #'TotalTimeInMins',\n",
    " #'Servings',\n",
    " #'Cuisine',\n",
    " 'Course',\n",
    " #'Diet',\n",
    " 'Instructions',\n",
    " 'TranslatedInstructions']"
   ]
  },
  {
   "cell_type": "code",
   "execution_count": 12,
   "metadata": {
    "id": "m-YpSsJMxJRE"
   },
   "outputs": [],
   "source": [
    "df = df[neworder]"
   ]
  },
  {
   "cell_type": "code",
   "execution_count": 13,
   "metadata": {
    "id": "9N_CPKhrxJRH"
   },
   "outputs": [],
   "source": [
    "df.to_csv('IndianFoodDataset.csv')"
   ]
  },
  {
   "cell_type": "code",
   "execution_count": null,
   "metadata": {
    "id": "dcetS5pOxJRJ"
   },
   "outputs": [],
   "source": []
  }
 ],
 "metadata": {
  "colab": {
   "collapsed_sections": [],
   "name": "Final_Translator_And_Dataset_Creator.ipynb",
   "provenance": []
  },
  "kernelspec": {
   "display_name": "Python 3 (ipykernel)",
   "language": "python",
   "name": "python3"
  },
  "language_info": {
   "codemirror_mode": {
    "name": "ipython",
    "version": 3
   },
   "file_extension": ".py",
   "mimetype": "text/x-python",
   "name": "python",
   "nbconvert_exporter": "python",
   "pygments_lexer": "ipython3",
   "version": "3.11.3"
  }
 },
 "nbformat": 4,
 "nbformat_minor": 4
}
