{
 "cells": [
  {
   "cell_type": "code",
   "execution_count": 1,
   "metadata": {
    "executionInfo": {
     "elapsed": 524,
     "status": "ok",
     "timestamp": 1603385792342,
     "user": {
      "displayName": "Kanishka Sanjay Jain",
      "photoUrl": "",
      "userId": "12863580920738780925"
     },
     "user_tz": 240
    },
    "id": "qvepiFcuPSZz"
   },
   "outputs": [],
   "source": [
    "import numpy as np\n",
    "import pandas as pd"
   ]
  },
  {
   "cell_type": "code",
   "execution_count": 2,
   "metadata": {
    "executionInfo": {
     "elapsed": 3021,
     "status": "ok",
     "timestamp": 1603385868296,
     "user": {
      "displayName": "Kanishka Sanjay Jain",
      "photoUrl": "",
      "userId": "12863580920738780925"
     },
     "user_tz": 240
    },
    "id": "aoJ9pHmNPYZ8"
   },
   "outputs": [],
   "source": [
    "df = pd.read_csv('IndianFoodDataset.csv')"
   ]
  },
  {
   "cell_type": "code",
   "execution_count": 3,
   "metadata": {
    "executionInfo": {
     "elapsed": 280,
     "status": "ok",
     "timestamp": 1603386020136,
     "user": {
      "displayName": "Kanishka Sanjay Jain",
      "photoUrl": "",
      "userId": "12863580920738780925"
     },
     "user_tz": 240
    },
    "id": "ZdzXKj6kPrP5"
   },
   "outputs": [],
   "source": [
    "df['Ingredients'] = df['Ingredients'].str.lstrip(',')\n",
    "df['Ingredients'] = df['Ingredients'].str.strip()"
   ]
  },
  {
   "cell_type": "code",
   "execution_count": 4,
   "metadata": {
    "executionInfo": {
     "elapsed": 336,
     "status": "ok",
     "timestamp": 1603386020434,
     "user": {
      "displayName": "Kanishka Sanjay Jain",
      "photoUrl": "",
      "userId": "12863580920738780925"
     },
     "user_tz": 240
    },
    "id": "-u75PR9gPtyj"
   },
   "outputs": [],
   "source": [
    "#df['TranslatedIngredients'] = df['TranslatedIngredients'].str.lstrip(',')\n",
    "#df['TranslatedIngredients'] = df['TranslatedIngredients'].str.strip()"
   ]
  },
  {
   "cell_type": "code",
   "execution_count": 5,
   "metadata": {
    "executionInfo": {
     "elapsed": 1563,
     "status": "ok",
     "timestamp": 1603386055937,
     "user": {
      "displayName": "Kanishka Sanjay Jain",
      "photoUrl": "",
      "userId": "12863580920738780925"
     },
     "user_tz": 240
    },
    "id": "cHRVJi4dQDYv"
   },
   "outputs": [],
   "source": [
    "df.to_csv('IndianFoodDataset2.csv')"
   ]
  },
  {
   "cell_type": "code",
   "execution_count": null,
   "metadata": {
    "id": "m2UKVtURQIFQ"
   },
   "outputs": [],
   "source": []
  }
 ],
 "metadata": {
  "colab": {
   "authorship_tag": "ABX9TyPPqs45G0HX4uu+XuBJPGLm",
   "collapsed_sections": [],
   "mount_file_id": "1xhBC0CPx9hhW9riDC3mceNz9KhSgjZjU",
   "name": "Trimming_Trailing_Commas.ipynb",
   "provenance": []
  },
  "kernelspec": {
   "display_name": "Python 3 (ipykernel)",
   "language": "python",
   "name": "python3"
  },
  "language_info": {
   "codemirror_mode": {
    "name": "ipython",
    "version": 3
   },
   "file_extension": ".py",
   "mimetype": "text/x-python",
   "name": "python",
   "nbconvert_exporter": "python",
   "pygments_lexer": "ipython3",
   "version": "3.11.3"
  }
 },
 "nbformat": 4,
 "nbformat_minor": 4
}
