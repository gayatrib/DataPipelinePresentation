{
 "cells": [
  {
   "cell_type": "code",
   "execution_count": 1,
   "metadata": {
    "executionInfo": {
     "elapsed": 574,
     "status": "ok",
     "timestamp": 1603500424025,
     "user": {
      "displayName": "Kanishka Sanjay Jain",
      "photoUrl": "",
      "userId": "12863580920738780925"
     },
     "user_tz": 240
    },
    "id": "M-T1czIAElux"
   },
   "outputs": [],
   "source": [
    "import numpy as np\n",
    "import pandas as pd"
   ]
  },
  {
   "cell_type": "code",
   "execution_count": 2,
   "metadata": {
    "executionInfo": {
     "elapsed": 3097,
     "status": "ok",
     "timestamp": 1603500461162,
     "user": {
      "displayName": "Kanishka Sanjay Jain",
      "photoUrl": "",
      "userId": "12863580920738780925"
     },
     "user_tz": 240
    },
    "id": "TuPjfkxrEqu7"
   },
   "outputs": [],
   "source": [
    "#df = pd.read_csv('/content/drive/My Drive/Projects/FoodDataset/IntermediateIFD3.csv')\n",
    "df = pd.read_csv('IndianFoodDataset4.csv')"
   ]
  },
  {
   "cell_type": "code",
   "execution_count": 3,
   "metadata": {
    "colab": {
     "base_uri": "https://localhost:8080/",
     "height": 118
    },
    "executionInfo": {
     "elapsed": 343,
     "status": "ok",
     "timestamp": 1603500467716,
     "user": {
      "displayName": "Kanishka Sanjay Jain",
      "photoUrl": "",
      "userId": "12863580920738780925"
     },
     "user_tz": 240
    },
    "id": "nZ31mQUgEz_9",
    "outputId": "86a1713f-9388-4c9a-f6b8-11a69734c625"
   },
   "outputs": [
    {
     "data": {
      "text/plain": [
       "Index(['Unnamed: 0', 'Unnamed: 0.2', 'RecipeName', 'Ingredients', 'Course',\n",
       "       'Instructions'],\n",
       "      dtype='object')"
      ]
     },
     "execution_count": 3,
     "metadata": {},
     "output_type": "execute_result"
    }
   ],
   "source": [
    "df.columns"
   ]
  },
  {
   "cell_type": "code",
   "execution_count": 5,
   "metadata": {
    "executionInfo": {
     "elapsed": 323,
     "status": "ok",
     "timestamp": 1603500511925,
     "user": {
      "displayName": "Kanishka Sanjay Jain",
      "photoUrl": "",
      "userId": "12863580920738780925"
     },
     "user_tz": 240
    },
    "id": "nesQDBZZE1dJ"
   },
   "outputs": [],
   "source": [
    "#df = df.drop(['Unnamed: 0', 'Unnamed: 0.1', 'Unnamed: 0.1.1'],axis=1)\n",
    "df = df.drop(['Unnamed: 0', 'Unnamed: 0.2'],axis=1)"
   ]
  },
  {
   "cell_type": "code",
   "execution_count": 6,
   "metadata": {
    "colab": {
     "base_uri": "https://localhost:8080/",
     "height": 101
    },
    "executionInfo": {
     "elapsed": 298,
     "status": "ok",
     "timestamp": 1603500512322,
     "user": {
      "displayName": "Kanishka Sanjay Jain",
      "photoUrl": "",
      "userId": "12863580920738780925"
     },
     "user_tz": 240
    },
    "id": "fYspSf2UE9X5",
    "outputId": "499bddea-a701-4a97-9e45-800e5f8961d7"
   },
   "outputs": [
    {
     "data": {
      "text/plain": [
       "Index(['RecipeName', 'Ingredients', 'Course', 'Instructions'], dtype='object')"
      ]
     },
     "execution_count": 6,
     "metadata": {},
     "output_type": "execute_result"
    }
   ],
   "source": [
    "df.columns"
   ]
  },
  {
   "cell_type": "code",
   "execution_count": 9,
   "metadata": {
    "executionInfo": {
     "elapsed": 322,
     "status": "ok",
     "timestamp": 1603500556993,
     "user": {
      "displayName": "Kanishka Sanjay Jain",
      "photoUrl": "",
      "userId": "12863580920738780925"
     },
     "user_tz": 240
    },
    "id": "I3oCFJBtE-zw"
   },
   "outputs": [],
   "source": [
    "#neworder = ['Srno', 'RecipeName', 'TranslatedRecipeName', 'Ingredients', 'TranslatedIngredients', 'PrepTimeInMins', 'CookTimeInMins',\n",
    " #      'TotalTimeInMins', 'Servings', 'Cuisine', 'Course', 'Diet',\n",
    " #      'Instructions', 'TranslatedInstructions', 'URL']\n",
    "neworder = [ 'RecipeName', 'Ingredients', 'Course', \n",
    "       'Instructions']"
   ]
  },
  {
   "cell_type": "code",
   "execution_count": 10,
   "metadata": {
    "executionInfo": {
     "elapsed": 400,
     "status": "ok",
     "timestamp": 1603500583639,
     "user": {
      "displayName": "Kanishka Sanjay Jain",
      "photoUrl": "",
      "userId": "12863580920738780925"
     },
     "user_tz": 240
    },
    "id": "_TKbhkpiFME4"
   },
   "outputs": [],
   "source": [
    "df = df[neworder]"
   ]
  },
  {
   "cell_type": "code",
   "execution_count": 11,
   "metadata": {
    "colab": {
     "base_uri": "https://localhost:8080/",
     "height": 1000
    },
    "executionInfo": {
     "elapsed": 316,
     "status": "ok",
     "timestamp": 1603500588853,
     "user": {
      "displayName": "Kanishka Sanjay Jain",
      "photoUrl": "",
      "userId": "12863580920738780925"
     },
     "user_tz": 240
    },
    "id": "-Yff1As5FOew",
    "outputId": "fbb152d8-da3c-4e7a-c7e6-9b8a26e824b2"
   },
   "outputs": [
    {
     "data": {
      "text/html": [
       "<div>\n",
       "<style scoped>\n",
       "    .dataframe tbody tr th:only-of-type {\n",
       "        vertical-align: middle;\n",
       "    }\n",
       "\n",
       "    .dataframe tbody tr th {\n",
       "        vertical-align: top;\n",
       "    }\n",
       "\n",
       "    .dataframe thead th {\n",
       "        text-align: right;\n",
       "    }\n",
       "</style>\n",
       "<table border=\"1\" class=\"dataframe\">\n",
       "  <thead>\n",
       "    <tr style=\"text-align: right;\">\n",
       "      <th></th>\n",
       "      <th>RecipeName</th>\n",
       "      <th>Ingredients</th>\n",
       "      <th>Course</th>\n",
       "      <th>Instructions</th>\n",
       "    </tr>\n",
       "  </thead>\n",
       "  <tbody>\n",
       "    <tr>\n",
       "      <th>0</th>\n",
       "      <td>Hù Tiéu</td>\n",
       "      <td>['dry rice noodles medium size', 'Hù Tiéu soup...</td>\n",
       "      <td>Breakfast</td>\n",
       "      <td>['Cook rice noodles according to package instr...</td>\n",
       "    </tr>\n",
       "    <tr>\n",
       "      <th>1</th>\n",
       "      <td>Donzelle</td>\n",
       "      <td>['500 g 00 flour', '1 Tbsp sugar', '1 Tbsp sal...</td>\n",
       "      <td>Snack</td>\n",
       "      <td>['Place the flour into the bowl of a food mixe...</td>\n",
       "    </tr>\n",
       "    <tr>\n",
       "      <th>2</th>\n",
       "      <td>Albaloo Polo</td>\n",
       "      <td>['2 cups Basmati Rice', '2 tbsp Salt', '1/8 ts...</td>\n",
       "      <td>Dinner</td>\n",
       "      <td>['Place the sour cherries in a saucepan, add s...</td>\n",
       "    </tr>\n",
       "    <tr>\n",
       "      <th>3</th>\n",
       "      <td>Batatinha em Conserva</td>\n",
       "      <td>['1 can cooked baby potatoes', '1 small onion ...</td>\n",
       "      <td>Snack</td>\n",
       "      <td>['Drain and rinse canned potatoes. Set aside.'...</td>\n",
       "    </tr>\n",
       "    <tr>\n",
       "      <th>4</th>\n",
       "      <td>Macarrão Misturado</td>\n",
       "      <td>['200 g milk', '1 Tbsp butter', '1 Tbsp flour'...</td>\n",
       "      <td>Dinner</td>\n",
       "      <td>['In a pan, melt the butter and slowly add the...</td>\n",
       "    </tr>\n",
       "    <tr>\n",
       "      <th>...</th>\n",
       "      <td>...</td>\n",
       "      <td>...</td>\n",
       "      <td>...</td>\n",
       "      <td>...</td>\n",
       "    </tr>\n",
       "    <tr>\n",
       "      <th>132</th>\n",
       "      <td>Pastina</td>\n",
       "      <td>['1 box pastina pasta', 'parmesan cheese grate...</td>\n",
       "      <td>Dinner</td>\n",
       "      <td>['Cook pastina according to package instructio...</td>\n",
       "    </tr>\n",
       "    <tr>\n",
       "      <th>133</th>\n",
       "      <td>Kakadiche Dhirde</td>\n",
       "      <td>['1 cup Grated Cucumber', '1 tsp Crushed Green...</td>\n",
       "      <td>Lunch, Snack</td>\n",
       "      <td>['Grate your cucumber on a medium grate', 'Add...</td>\n",
       "    </tr>\n",
       "    <tr>\n",
       "      <th>134</th>\n",
       "      <td>Espagueti Verde</td>\n",
       "      <td>['3 medium-large poblano peppers', '1 chicken ...</td>\n",
       "      <td>Dinner</td>\n",
       "      <td>['Roast the peppers either directly on the fla...</td>\n",
       "    </tr>\n",
       "    <tr>\n",
       "      <th>135</th>\n",
       "      <td>Gombotz</td>\n",
       "      <td>['1 lb starchy potatoes', '1 egg', '1 Tbsp but...</td>\n",
       "      <td>Dessert, Dinner</td>\n",
       "      <td>['Boil the potatoes with their skin on, until ...</td>\n",
       "    </tr>\n",
       "    <tr>\n",
       "      <th>136</th>\n",
       "      <td>Pink Beetroot Pasta</td>\n",
       "      <td>['8 oz long pasta', 'cooked beets fresh or can...</td>\n",
       "      <td>Dinner</td>\n",
       "      <td>['Cook pasta according to package instructions...</td>\n",
       "    </tr>\n",
       "  </tbody>\n",
       "</table>\n",
       "<p>137 rows × 4 columns</p>\n",
       "</div>"
      ],
      "text/plain": [
       "                RecipeName                                        Ingredients  \\\n",
       "0                  Hù Tiéu  ['dry rice noodles medium size', 'Hù Tiéu soup...   \n",
       "1                 Donzelle  ['500 g 00 flour', '1 Tbsp sugar', '1 Tbsp sal...   \n",
       "2             Albaloo Polo  ['2 cups Basmati Rice', '2 tbsp Salt', '1/8 ts...   \n",
       "3    Batatinha em Conserva  ['1 can cooked baby potatoes', '1 small onion ...   \n",
       "4       Macarrão Misturado  ['200 g milk', '1 Tbsp butter', '1 Tbsp flour'...   \n",
       "..                     ...                                                ...   \n",
       "132                Pastina  ['1 box pastina pasta', 'parmesan cheese grate...   \n",
       "133       Kakadiche Dhirde  ['1 cup Grated Cucumber', '1 tsp Crushed Green...   \n",
       "134        Espagueti Verde  ['3 medium-large poblano peppers', '1 chicken ...   \n",
       "135                Gombotz  ['1 lb starchy potatoes', '1 egg', '1 Tbsp but...   \n",
       "136    Pink Beetroot Pasta  ['8 oz long pasta', 'cooked beets fresh or can...   \n",
       "\n",
       "              Course                                       Instructions  \n",
       "0          Breakfast  ['Cook rice noodles according to package instr...  \n",
       "1              Snack  ['Place the flour into the bowl of a food mixe...  \n",
       "2             Dinner  ['Place the sour cherries in a saucepan, add s...  \n",
       "3              Snack  ['Drain and rinse canned potatoes. Set aside.'...  \n",
       "4             Dinner  ['In a pan, melt the butter and slowly add the...  \n",
       "..               ...                                                ...  \n",
       "132           Dinner  ['Cook pastina according to package instructio...  \n",
       "133     Lunch, Snack  ['Grate your cucumber on a medium grate', 'Add...  \n",
       "134           Dinner  ['Roast the peppers either directly on the fla...  \n",
       "135  Dessert, Dinner  ['Boil the potatoes with their skin on, until ...  \n",
       "136           Dinner  ['Cook pasta according to package instructions...  \n",
       "\n",
       "[137 rows x 4 columns]"
      ]
     },
     "execution_count": 11,
     "metadata": {},
     "output_type": "execute_result"
    }
   ],
   "source": [
    "df"
   ]
  },
  {
   "cell_type": "code",
   "execution_count": 13,
   "metadata": {
    "executionInfo": {
     "elapsed": 964,
     "status": "ok",
     "timestamp": 1603500669717,
     "user": {
      "displayName": "Kanishka Sanjay Jain",
      "photoUrl": "",
      "userId": "12863580920738780925"
     },
     "user_tz": 240
    },
    "id": "8bW09wn-FTOQ"
   },
   "outputs": [],
   "source": [
    "df.to_csv('IndianFoodDataset8.csv')"
   ]
  },
  {
   "cell_type": "code",
   "execution_count": null,
   "metadata": {
    "id": "MF2O0E22FncJ"
   },
   "outputs": [],
   "source": []
  }
 ],
 "metadata": {
  "colab": {
   "authorship_tag": "ABX9TyPXNqYZpQBYoLUbqrQpWLf0",
   "mount_file_id": "1w1nhBSzOkB9BQtMIOpymv21YJktsNUNx",
   "name": "Final_Reordering_Columns.ipynb",
   "provenance": []
  },
  "kernelspec": {
   "display_name": "Python 3 (ipykernel)",
   "language": "python",
   "name": "python3"
  },
  "language_info": {
   "codemirror_mode": {
    "name": "ipython",
    "version": 3
   },
   "file_extension": ".py",
   "mimetype": "text/x-python",
   "name": "python",
   "nbconvert_exporter": "python",
   "pygments_lexer": "ipython3",
   "version": "3.11.3"
  }
 },
 "nbformat": 4,
 "nbformat_minor": 4
}
